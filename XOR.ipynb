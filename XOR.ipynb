{
 "cells": [
  {
   "cell_type": "code",
   "execution_count": 1,
   "metadata": {
    "collapsed": true
   },
   "outputs": [],
   "source": [
    "import tensorflow as tf\n",
    "import numpy as np\n",
    "import matplotlib.pyplot as plt"
   ]
  },
  {
   "cell_type": "code",
   "execution_count": 2,
   "metadata": {},
   "outputs": [],
   "source": [
    "X = [[0,0],[1,0],[0,1],[1,1]]\n",
    "X = np.array(X)\n",
    "Y = [0,1,1,0]"
   ]
  },
  {
   "cell_type": "code",
   "execution_count": 3,
   "metadata": {},
   "outputs": [
    {
     "data": {
      "image/png": "[encoded data removed]",
      "text/plain": [
       "<Figure size 288x288 with 1 Axes>"
      ]
     },
     "metadata": {},
     "output_type": "display_data"
    }
   ],
   "source": [
    "colors = ['r' if l == 0 else 'g' for l in Y[:]]\n",
    "plt.figure(figsize=(4,4))\n",
    "plt.scatter(X[:,0],X[:,1],c = colors)\n",
    "plt.show()"
   ]
  },
  {
   "cell_type": "code",
   "execution_count": 4,
   "metadata": {
    "collapsed": true
   },
   "outputs": [],
   "source": [
    "x = tf.placeholder(dtype=tf.float32,shape=[None,2],name = \"input\")\n",
    "y = tf.placeholder(dtype=tf.float32,shape=[None,1],name = \"label\")"
   ]
  },
  {
   "cell_type": "code",
   "execution_count": 5,
   "metadata": {},
   "outputs": [],
   "source": [
    "weight = {\n",
    "    \"W1\" : tf.Variable(initial_value=tf.random_normal(shape=[2,2],stddev=0.1),name=\"W1\"),\n",
    "    \"W2\" : tf.Variable(initial_value=tf.random_normal(shape=[2,1],stddev=0.1),name=\"W2\")\n",
    "}\n",
    "bias = {\n",
    "    \"B1\" : tf.Variable(initial_value=tf.zeros([2]),name=\"B1\"),\n",
    "    \"B2\" : tf.Variable(initial_value=tf.zeros([1]),name=\"B2\")\n",
    "}"
   ]
  },
  {
   "cell_type": "code",
   "execution_count": 10,
   "metadata": {},
   "outputs": [],
   "source": [
    "lay_1 = tf.matmul(x,weight[\"W1\"])+bias[\"B1\"]\n",
    "lay_1_sigmoid = tf.nn.sigmoid(lay_1)\n",
    "lay_2 = tf.matmul(lay_1_sigmoid,weight[\"W2\"])+bias[\"B2\"]\n",
    "pred = tf.nn.tanh(lay_2)\n",
    "cost = tf.reduce_mean(tf.square(y - pred))\n",
    "opti = tf.train.GradientDescentOptimizer(0.1).minimize(cost)"
   ]
  },
  {
   "cell_type": "code",
   "execution_count": 11,
   "metadata": {},
   "outputs": [
    {
     "name": "stdout",
     "output_type": "stream",
     "text": [
      "epoch:0,loss:0.18762356042861938\n",
      "epoch:100,loss:0.35262295603752136\n",
      "epoch:200,loss:0.3420768082141876\n",
      "epoch:300,loss:0.33666643500328064\n",
      "epoch:400,loss:0.3353128433227539\n",
      "epoch:500,loss:0.3373568058013916\n",
      "epoch:600,loss:0.3432142734527588\n",
      "epoch:700,loss:0.3554660975933075\n",
      "epoch:800,loss:0.3811458647251129\n",
      "epoch:900,loss:0.4333093464374542\n",
      "epoch:1000,loss:0.495918333530426\n",
      "epoch:1100,loss:0.48312318325042725\n",
      "epoch:1200,loss:0.42827874422073364\n",
      "epoch:1300,loss:0.3473435342311859\n",
      "epoch:1400,loss:0.16546611487865448\n",
      "epoch:1500,loss:0.022278979420661926\n",
      "epoch:1600,loss:0.0034504751674830914\n",
      "epoch:1700,loss:0.001001755241304636\n",
      "epoch:1800,loss:0.0004212469211779535\n",
      "epoch:1900,loss:0.00021907892369199544\n",
      "epoch:2000,loss:0.00013016450975555927\n",
      "epoch:2100,loss:8.45975082484074e-05\n",
      "epoch:2200,loss:5.863818296347745e-05\n",
      "epoch:2300,loss:4.2655086872400716e-05\n",
      "epoch:2400,loss:3.2205811294261366e-05\n",
      "epoch:2500,loss:2.5044852009159513e-05\n",
      "epoch:2600,loss:1.9958177290391177e-05\n",
      "epoch:2700,loss:1.622142553969752e-05\n",
      "epoch:2800,loss:1.340743347100215e-05\n",
      "epoch:2900,loss:1.1244121196796186e-05\n"
     ]
    }
   ],
   "source": [
    "init = tf.global_variables_initializer()\n",
    "saver = tf.train.Saver(max_to_keep=2)\n",
    "epochs = 3000\n",
    "with tf.Session() as sess:\n",
    "    sess.run(init)\n",
    "    for epoch in range(epochs):\n",
    "        for inter in range(4):\n",
    "            _,loss = sess.run([opti,cost],feed_dict = {x:np.reshape(X[inter],[1,2]),y:np.reshape(Y[inter],[1,1])})\n",
    "        if epoch % 100 == 0:\n",
    "            print(\"epoch:{0},loss:{1}\".format(epoch,loss))\n",
    "            saver.save(sess,\"XORsave/xor.ckpt\",global_step = epoch)"
   ]
  },
  {
   "cell_type": "code",
   "execution_count": 12,
   "metadata": {},
   "outputs": [
    {
     "name": "stdout",
     "output_type": "stream",
     "text": [
      "INFO:tensorflow:Restoring parameters from XORsave/xor.ckpt-2900\n",
      "[array([[0.00152576]], dtype=float32), array([[0.96547884]], dtype=float32), array([[0.9656045]], dtype=float32), array([[0.00140595]], dtype=float32)]\n"
     ]
    }
   ],
   "source": [
    "with tf.Session() as sess:\n",
    "    sess.run(init)\n",
    "    saver.restore(sess,\"XORsave/xor.ckpt-2900\")\n",
    "    result = []\n",
    "    for i in range(4):\n",
    "        r = sess.run(pred,feed_dict={x:np.reshape(X[i],[1,2])})\n",
    "        result.append(r)\n",
    "    print(result)"
   ]
  },
  {
   "cell_type": "code",
   "execution_count": 15,
   "metadata": {},
   "outputs": [
    {
     "name": "stdout",
     "output_type": "stream",
     "text": [
      "INFO:tensorflow:Restoring parameters from XORsave/xor.ckpt-2900\n",
      "[array([[0.96116465, 0.73049325]], dtype=float32), array([[0.7361966 , 0.04576518]], dtype=float32), array([[0.7284898 , 0.03762642]], dtype=float32), array([[0.23226796, 0.00069133]], dtype=float32)]\n"
     ]
    }
   ],
   "source": [
    "with tf.Session() as sess:\n",
    "    sess.run(init)\n",
    "    saver.restore(sess,\"XORsave/xor.ckpt-2900\")\n",
    "    result = []\n",
    "    for i in range(4):\n",
    "        r = sess.run(lay_1_sigmoid,feed_dict={x:np.reshape(X[i],[1,2])})\n",
    "        result.append(r)\n",
    "    print(result)"
   ]
  },
  {
   "cell_type": "code",
   "execution_count": 16,
   "metadata": {},
   "outputs": [
    {
     "data": {
      "image/png": "[encoded data removed]",
      "text/plain": [
       "<Figure size 288x288 with 1 Axes>"
      ]
     },
     "metadata": {},
     "output_type": "display_data"
    }
   ],
   "source": [
    "result = np.reshape(result,[4,2])\n",
    "plt.figure(figsize=[4,4])\n",
    "plt.scatter(result[:,0],result[:,1],c = colors)\n",
    "plt.show()"
   ]
  },
  {
   "cell_type": "code",
   "execution_count": null,
   "metadata": {
    "collapsed": true
   },
   "outputs": [],
   "source": []
  }
 ],
 "metadata": {
  "kernelspec": {
   "display_name": "Python 3",
   "language": "python",
   "name": "python3"
  }
 },
 "nbformat": 4,
 "nbformat_minor": 2
}
